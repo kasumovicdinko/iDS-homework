{
 "cells": [
  {
   "cell_type": "markdown",
   "id": "30e9ce05",
   "metadata": {},
   "source": [
    "# Laboratory exercise 4\n",
    "\n",
    "In this laboratory exercise you will use the questionnaire and answers given below"
   ]
  },
  {
   "cell_type": "code",
   "execution_count": 7,
   "id": "d6820020",
   "metadata": {},
   "outputs": [],
   "source": [
    "import pandas as pd"
   ]
  },
  {
   "cell_type": "code",
   "execution_count": 8,
   "id": "c53f916c",
   "metadata": {},
   "outputs": [],
   "source": [
    "questionnaire = pd.DataFrame({'Q1': [1, 2, 2, 3, 2, 2, 3, 3, 2, 3],\n",
    "                              'Q2': [1, 1, 1, 2, 3, 3, 2, 3, 3, 3],\n",
    "                              'Q3': [1, 1, 2, 1, 2, 3, 3, 3, 2, 3]})"
   ]
  },
  {
   "cell_type": "markdown",
   "id": "ce36a49d",
   "metadata": {},
   "source": [
    "1. Write a function to detrmine the realiability of the questionnaire answers with Cronbach's Alpha."
   ]
  },
  {
   "cell_type": "code",
   "execution_count": 16,
   "id": "75c9e259",
   "metadata": {},
   "outputs": [
    {
     "data": {
      "text/plain": [
       "0.8692079791566492"
      ]
     },
     "execution_count": 16,
     "metadata": {},
     "output_type": "execute_result"
    }
   ],
   "source": [
    "def cronbach(questionnaire):\n",
    "    n = questionnaire.shape[1]\n",
    "    item_corr = questionnaire.corr()\n",
    "    mean_corr = item_corr.mean().mean()\n",
    "    cronbach_alpha = (n * mean_corr) / (1 + (n - 1) * mean_corr)\n",
    "    return cronbach_alpha\n",
    "cronbach(questionnaire)"
   ]
  },
  {
   "cell_type": "code",
   "execution_count": null,
   "id": "3eafa71b",
   "metadata": {},
   "outputs": [],
   "source": [
    "# good reliability 0.8 < cronbach < 0.9"
   ]
  },
  {
   "cell_type": "markdown",
   "id": "69cb9d0a",
   "metadata": {},
   "source": [
    "2. Explain the differences between in-house data labeling, crowdsourcing and outsourcing. "
   ]
  },
  {
   "cell_type": "markdown",
   "id": "b29d80db",
   "metadata": {},
   "source": [
    "In-house data labeling ensures the highest quality hence it can be very slow. It is typically used by workers and scientists and it is used where precise labeling is needed such as medical or insurance records.\n",
    "\n",
    "Crowdsourcing doesn't require professinal expertise and it is done by recruiting a lot of freelancers.\n",
    "\n",
    "Outsourcing occurs when instead of precise labeling in-house, it is given/outsourced to a different organisation specialised for it."
   ]
  },
  {
   "cell_type": "markdown",
   "id": "ce3d3e91",
   "metadata": {},
   "source": [
    "3. Explain the main differences between annotation for image classification, object detection and image segmentation."
   ]
  },
  {
   "cell_type": "markdown",
   "id": "13e0777e",
   "metadata": {},
   "source": [
    "Image classification involves using as much labels as there are classes that represent the image's content. Annotations are stored in a simple format.\n",
    "\n",
    "Object detection is identifying multiple objects in an image and are surrounded by a bounding box. Annotating involves specifying the location (coordinates) and attributes (width, height) for every specific object.\n",
    "\n",
    "Image segmentation is dividing the image using pixel-level labeling into different segments and objects, e.g. segmenting object from background"
   ]
  }
 ],
 "metadata": {
  "kernelspec": {
   "display_name": "Python 3 (ipykernel)",
   "language": "python",
   "name": "python3"
  },
  "language_info": {
   "codemirror_mode": {
    "name": "ipython",
    "version": 3
   },
   "file_extension": ".py",
   "mimetype": "text/x-python",
   "name": "python",
   "nbconvert_exporter": "python",
   "pygments_lexer": "ipython3",
   "version": "3.11.5"
  }
 },
 "nbformat": 4,
 "nbformat_minor": 5
}
