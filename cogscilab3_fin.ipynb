{
 "cells": [
  {
   "cell_type": "code",
   "execution_count": 25,
   "id": "f7ff933a",
   "metadata": {},
   "outputs": [],
   "source": [
    "import numpy as np\n",
    "import pandas as pd\n",
    "import matplotlib.pyplot as plt\n",
    "import seaborn as sns\n",
    "from scipy import stats"
   ]
  },
  {
   "cell_type": "markdown",
   "id": "565d8231",
   "metadata": {},
   "source": [
    "1. Load the cleaned dataset from the last exercise. If you haven't saved the dataset, rerun the exercise and save the final dataset."
   ]
  },
  {
   "cell_type": "code",
   "execution_count": 2,
   "id": "ed36fe06",
   "metadata": {},
   "outputs": [
    {
     "data": {
      "text/html": [
       "<div>\n",
       "<style scoped>\n",
       "    .dataframe tbody tr th:only-of-type {\n",
       "        vertical-align: middle;\n",
       "    }\n",
       "\n",
       "    .dataframe tbody tr th {\n",
       "        vertical-align: top;\n",
       "    }\n",
       "\n",
       "    .dataframe thead th {\n",
       "        text-align: right;\n",
       "    }\n",
       "</style>\n",
       "<table border=\"1\" class=\"dataframe\">\n",
       "  <thead>\n",
       "    <tr style=\"text-align: right;\">\n",
       "      <th></th>\n",
       "      <th>EthnicGroup</th>\n",
       "      <th>ParentEduc</th>\n",
       "      <th>TestPrep</th>\n",
       "      <th>ParentMaritalStatus</th>\n",
       "      <th>PracticeSport</th>\n",
       "      <th>IsFirstChild</th>\n",
       "      <th>NrSiblings</th>\n",
       "      <th>TransportMeans</th>\n",
       "      <th>WklyStudyHours</th>\n",
       "      <th>MathScore</th>\n",
       "      <th>ReadingScore</th>\n",
       "      <th>WritingScore</th>\n",
       "      <th>Gender_female</th>\n",
       "      <th>Gender_male</th>\n",
       "      <th>LunchType_free/reduced</th>\n",
       "      <th>LunchType_standard</th>\n",
       "    </tr>\n",
       "  </thead>\n",
       "  <tbody>\n",
       "    <tr>\n",
       "      <th>0</th>\n",
       "      <td>2</td>\n",
       "      <td>1</td>\n",
       "      <td>1</td>\n",
       "      <td>1</td>\n",
       "      <td>1</td>\n",
       "      <td>1</td>\n",
       "      <td>3.0</td>\n",
       "      <td>1</td>\n",
       "      <td>1</td>\n",
       "      <td>71</td>\n",
       "      <td>71</td>\n",
       "      <td>74</td>\n",
       "      <td>1.0</td>\n",
       "      <td>0.0</td>\n",
       "      <td>0.0</td>\n",
       "      <td>1.0</td>\n",
       "    </tr>\n",
       "    <tr>\n",
       "      <th>1</th>\n",
       "      <td>2</td>\n",
       "      <td>5</td>\n",
       "      <td>1</td>\n",
       "      <td>1</td>\n",
       "      <td>2</td>\n",
       "      <td>1</td>\n",
       "      <td>0.0</td>\n",
       "      <td>2</td>\n",
       "      <td>0</td>\n",
       "      <td>69</td>\n",
       "      <td>90</td>\n",
       "      <td>88</td>\n",
       "      <td>1.0</td>\n",
       "      <td>0.0</td>\n",
       "      <td>0.0</td>\n",
       "      <td>1.0</td>\n",
       "    </tr>\n",
       "    <tr>\n",
       "      <th>2</th>\n",
       "      <td>1</td>\n",
       "      <td>3</td>\n",
       "      <td>1</td>\n",
       "      <td>2</td>\n",
       "      <td>2</td>\n",
       "      <td>1</td>\n",
       "      <td>4.0</td>\n",
       "      <td>1</td>\n",
       "      <td>1</td>\n",
       "      <td>87</td>\n",
       "      <td>93</td>\n",
       "      <td>91</td>\n",
       "      <td>1.0</td>\n",
       "      <td>0.0</td>\n",
       "      <td>0.0</td>\n",
       "      <td>1.0</td>\n",
       "    </tr>\n",
       "    <tr>\n",
       "      <th>3</th>\n",
       "      <td>0</td>\n",
       "      <td>0</td>\n",
       "      <td>1</td>\n",
       "      <td>1</td>\n",
       "      <td>0</td>\n",
       "      <td>0</td>\n",
       "      <td>1.0</td>\n",
       "      <td>2</td>\n",
       "      <td>0</td>\n",
       "      <td>45</td>\n",
       "      <td>56</td>\n",
       "      <td>42</td>\n",
       "      <td>0.0</td>\n",
       "      <td>1.0</td>\n",
       "      <td>1.0</td>\n",
       "      <td>0.0</td>\n",
       "    </tr>\n",
       "    <tr>\n",
       "      <th>4</th>\n",
       "      <td>2</td>\n",
       "      <td>5</td>\n",
       "      <td>1</td>\n",
       "      <td>1</td>\n",
       "      <td>2</td>\n",
       "      <td>1</td>\n",
       "      <td>0.0</td>\n",
       "      <td>1</td>\n",
       "      <td>0</td>\n",
       "      <td>76</td>\n",
       "      <td>78</td>\n",
       "      <td>75</td>\n",
       "      <td>0.0</td>\n",
       "      <td>1.0</td>\n",
       "      <td>0.0</td>\n",
       "      <td>1.0</td>\n",
       "    </tr>\n",
       "    <tr>\n",
       "      <th>...</th>\n",
       "      <td>...</td>\n",
       "      <td>...</td>\n",
       "      <td>...</td>\n",
       "      <td>...</td>\n",
       "      <td>...</td>\n",
       "      <td>...</td>\n",
       "      <td>...</td>\n",
       "      <td>...</td>\n",
       "      <td>...</td>\n",
       "      <td>...</td>\n",
       "      <td>...</td>\n",
       "      <td>...</td>\n",
       "      <td>...</td>\n",
       "      <td>...</td>\n",
       "      <td>...</td>\n",
       "      <td>...</td>\n",
       "    </tr>\n",
       "    <tr>\n",
       "      <th>29112</th>\n",
       "      <td>3</td>\n",
       "      <td>2</td>\n",
       "      <td>1</td>\n",
       "      <td>2</td>\n",
       "      <td>2</td>\n",
       "      <td>0</td>\n",
       "      <td>2.0</td>\n",
       "      <td>1</td>\n",
       "      <td>0</td>\n",
       "      <td>59</td>\n",
       "      <td>61</td>\n",
       "      <td>65</td>\n",
       "      <td>1.0</td>\n",
       "      <td>0.0</td>\n",
       "      <td>0.0</td>\n",
       "      <td>1.0</td>\n",
       "    </tr>\n",
       "    <tr>\n",
       "      <th>29113</th>\n",
       "      <td>4</td>\n",
       "      <td>2</td>\n",
       "      <td>1</td>\n",
       "      <td>2</td>\n",
       "      <td>1</td>\n",
       "      <td>0</td>\n",
       "      <td>1.0</td>\n",
       "      <td>0</td>\n",
       "      <td>0</td>\n",
       "      <td>58</td>\n",
       "      <td>53</td>\n",
       "      <td>51</td>\n",
       "      <td>0.0</td>\n",
       "      <td>1.0</td>\n",
       "      <td>0.0</td>\n",
       "      <td>1.0</td>\n",
       "    </tr>\n",
       "    <tr>\n",
       "      <th>29114</th>\n",
       "      <td>5</td>\n",
       "      <td>2</td>\n",
       "      <td>0</td>\n",
       "      <td>1</td>\n",
       "      <td>2</td>\n",
       "      <td>0</td>\n",
       "      <td>1.0</td>\n",
       "      <td>0</td>\n",
       "      <td>0</td>\n",
       "      <td>61</td>\n",
       "      <td>70</td>\n",
       "      <td>67</td>\n",
       "      <td>1.0</td>\n",
       "      <td>0.0</td>\n",
       "      <td>1.0</td>\n",
       "      <td>0.0</td>\n",
       "    </tr>\n",
       "    <tr>\n",
       "      <th>29115</th>\n",
       "      <td>3</td>\n",
       "      <td>0</td>\n",
       "      <td>0</td>\n",
       "      <td>1</td>\n",
       "      <td>1</td>\n",
       "      <td>0</td>\n",
       "      <td>3.0</td>\n",
       "      <td>1</td>\n",
       "      <td>0</td>\n",
       "      <td>82</td>\n",
       "      <td>90</td>\n",
       "      <td>93</td>\n",
       "      <td>1.0</td>\n",
       "      <td>0.0</td>\n",
       "      <td>0.0</td>\n",
       "      <td>1.0</td>\n",
       "    </tr>\n",
       "    <tr>\n",
       "      <th>29116</th>\n",
       "      <td>1</td>\n",
       "      <td>5</td>\n",
       "      <td>1</td>\n",
       "      <td>1</td>\n",
       "      <td>0</td>\n",
       "      <td>0</td>\n",
       "      <td>1.0</td>\n",
       "      <td>1</td>\n",
       "      <td>0</td>\n",
       "      <td>64</td>\n",
       "      <td>60</td>\n",
       "      <td>58</td>\n",
       "      <td>0.0</td>\n",
       "      <td>1.0</td>\n",
       "      <td>0.0</td>\n",
       "      <td>1.0</td>\n",
       "    </tr>\n",
       "  </tbody>\n",
       "</table>\n",
       "<p>29117 rows × 16 columns</p>\n",
       "</div>"
      ],
      "text/plain": [
       "       EthnicGroup  ParentEduc  TestPrep  ParentMaritalStatus  PracticeSport  \\\n",
       "0                2           1         1                    1              1   \n",
       "1                2           5         1                    1              2   \n",
       "2                1           3         1                    2              2   \n",
       "3                0           0         1                    1              0   \n",
       "4                2           5         1                    1              2   \n",
       "...            ...         ...       ...                  ...            ...   \n",
       "29112            3           2         1                    2              2   \n",
       "29113            4           2         1                    2              1   \n",
       "29114            5           2         0                    1              2   \n",
       "29115            3           0         0                    1              1   \n",
       "29116            1           5         1                    1              0   \n",
       "\n",
       "       IsFirstChild  NrSiblings  TransportMeans  WklyStudyHours  MathScore  \\\n",
       "0                 1         3.0               1               1         71   \n",
       "1                 1         0.0               2               0         69   \n",
       "2                 1         4.0               1               1         87   \n",
       "3                 0         1.0               2               0         45   \n",
       "4                 1         0.0               1               0         76   \n",
       "...             ...         ...             ...             ...        ...   \n",
       "29112             0         2.0               1               0         59   \n",
       "29113             0         1.0               0               0         58   \n",
       "29114             0         1.0               0               0         61   \n",
       "29115             0         3.0               1               0         82   \n",
       "29116             0         1.0               1               0         64   \n",
       "\n",
       "       ReadingScore  WritingScore  Gender_female  Gender_male  \\\n",
       "0                71            74            1.0          0.0   \n",
       "1                90            88            1.0          0.0   \n",
       "2                93            91            1.0          0.0   \n",
       "3                56            42            0.0          1.0   \n",
       "4                78            75            0.0          1.0   \n",
       "...             ...           ...            ...          ...   \n",
       "29112            61            65            1.0          0.0   \n",
       "29113            53            51            0.0          1.0   \n",
       "29114            70            67            1.0          0.0   \n",
       "29115            90            93            1.0          0.0   \n",
       "29116            60            58            0.0          1.0   \n",
       "\n",
       "       LunchType_free/reduced  LunchType_standard  \n",
       "0                         0.0                 1.0  \n",
       "1                         0.0                 1.0  \n",
       "2                         0.0                 1.0  \n",
       "3                         1.0                 0.0  \n",
       "4                         0.0                 1.0  \n",
       "...                       ...                 ...  \n",
       "29112                     0.0                 1.0  \n",
       "29113                     0.0                 1.0  \n",
       "29114                     1.0                 0.0  \n",
       "29115                     0.0                 1.0  \n",
       "29116                     0.0                 1.0  \n",
       "\n",
       "[29117 rows x 16 columns]"
      ]
     },
     "execution_count": 2,
     "metadata": {},
     "output_type": "execute_result"
    }
   ],
   "source": [
    "X = pd.read_csv(\"students_cleaned.csv\")\n",
    "X"
   ]
  },
  {
   "cell_type": "markdown",
   "id": "5bd8059f",
   "metadata": {},
   "source": [
    "2. a) Find the mean, median and average scores in mathematics, reading and writing. <br>\n",
    "   b) Find the mean, median and average scores for males and females.<br>\n",
    "   c) What is the coefficient of variation of the scores? <br>"
   ]
  },
  {
   "cell_type": "code",
   "execution_count": 3,
   "id": "50b4b85d",
   "metadata": {},
   "outputs": [
    {
     "data": {
      "text/plain": [
       "66.55994779681973"
      ]
     },
     "execution_count": 3,
     "metadata": {},
     "output_type": "execute_result"
    }
   ],
   "source": [
    "X[\"MathScore\"].mean()"
   ]
  },
  {
   "cell_type": "code",
   "execution_count": 4,
   "id": "6138e105",
   "metadata": {},
   "outputs": [
    {
     "data": {
      "text/plain": [
       "67.0"
      ]
     },
     "execution_count": 4,
     "metadata": {},
     "output_type": "execute_result"
    }
   ],
   "source": [
    "X[\"MathScore\"].median()"
   ]
  },
  {
   "cell_type": "code",
   "execution_count": 5,
   "id": "0406be28",
   "metadata": {},
   "outputs": [
    {
     "data": {
      "text/plain": [
       "0    64\n",
       "Name: MathScore, dtype: int64"
      ]
     },
     "execution_count": 5,
     "metadata": {},
     "output_type": "execute_result"
    }
   ],
   "source": [
    "X[\"MathScore\"].mode()"
   ]
  },
  {
   "cell_type": "code",
   "execution_count": 6,
   "id": "bb939e0d",
   "metadata": {},
   "outputs": [
    {
     "data": {
      "text/plain": [
       "69.39008139574818"
      ]
     },
     "execution_count": 6,
     "metadata": {},
     "output_type": "execute_result"
    }
   ],
   "source": [
    "X[\"ReadingScore\"].mean()"
   ]
  },
  {
   "cell_type": "code",
   "execution_count": 7,
   "id": "1cc1cf70",
   "metadata": {},
   "outputs": [
    {
     "data": {
      "text/plain": [
       "70.0"
      ]
     },
     "execution_count": 7,
     "metadata": {},
     "output_type": "execute_result"
    }
   ],
   "source": [
    "X[\"ReadingScore\"].median()"
   ]
  },
  {
   "cell_type": "code",
   "execution_count": 8,
   "id": "aa82399b",
   "metadata": {},
   "outputs": [
    {
     "data": {
      "text/plain": [
       "0    65\n",
       "Name: ReadingScore, dtype: int64"
      ]
     },
     "execution_count": 8,
     "metadata": {},
     "output_type": "execute_result"
    }
   ],
   "source": [
    "X[\"ReadingScore\"].mode()"
   ]
  },
  {
   "cell_type": "code",
   "execution_count": 9,
   "id": "50884c67",
   "metadata": {},
   "outputs": [
    {
     "data": {
      "text/plain": [
       "68.42933681354535"
      ]
     },
     "execution_count": 9,
     "metadata": {},
     "output_type": "execute_result"
    }
   ],
   "source": [
    "X[\"WritingScore\"].mean()"
   ]
  },
  {
   "cell_type": "code",
   "execution_count": 10,
   "id": "1edea905",
   "metadata": {},
   "outputs": [
    {
     "data": {
      "text/plain": [
       "69.0"
      ]
     },
     "execution_count": 10,
     "metadata": {},
     "output_type": "execute_result"
    }
   ],
   "source": [
    "X[\"WritingScore\"].median()"
   ]
  },
  {
   "cell_type": "code",
   "execution_count": 11,
   "id": "38c64b4f",
   "metadata": {},
   "outputs": [
    {
     "data": {
      "text/plain": [
       "0    67\n",
       "Name: WritingScore, dtype: int64"
      ]
     },
     "execution_count": 11,
     "metadata": {},
     "output_type": "execute_result"
    }
   ],
   "source": [
    "X[\"WritingScore\"].mode()"
   ]
  },
  {
   "cell_type": "code",
   "execution_count": 12,
   "id": "3a8b8be6",
   "metadata": {},
   "outputs": [
    {
     "data": {
      "text/plain": [
       "0.5038637222241302"
      ]
     },
     "execution_count": 12,
     "metadata": {},
     "output_type": "execute_result"
    }
   ],
   "source": [
    "X[\"Gender_female\"].mean()"
   ]
  },
  {
   "cell_type": "code",
   "execution_count": 13,
   "id": "65cce613",
   "metadata": {},
   "outputs": [
    {
     "data": {
      "text/plain": [
       "1.0"
      ]
     },
     "execution_count": 13,
     "metadata": {},
     "output_type": "execute_result"
    }
   ],
   "source": [
    "X[\"Gender_female\"].median()"
   ]
  },
  {
   "cell_type": "code",
   "execution_count": 14,
   "id": "31028190",
   "metadata": {},
   "outputs": [
    {
     "data": {
      "text/plain": [
       "0    1.0\n",
       "Name: Gender_female, dtype: float64"
      ]
     },
     "execution_count": 14,
     "metadata": {},
     "output_type": "execute_result"
    }
   ],
   "source": [
    "X[\"Gender_female\"].mode()"
   ]
  },
  {
   "cell_type": "code",
   "execution_count": 15,
   "id": "9d72c9ef",
   "metadata": {},
   "outputs": [
    {
     "data": {
      "text/plain": [
       "0.49613627777586977"
      ]
     },
     "execution_count": 15,
     "metadata": {},
     "output_type": "execute_result"
    }
   ],
   "source": [
    "X[\"Gender_male\"].mean()"
   ]
  },
  {
   "cell_type": "code",
   "execution_count": 16,
   "id": "30f3f016",
   "metadata": {},
   "outputs": [
    {
     "data": {
      "text/plain": [
       "0.0"
      ]
     },
     "execution_count": 16,
     "metadata": {},
     "output_type": "execute_result"
    }
   ],
   "source": [
    "X[\"Gender_male\"].median()"
   ]
  },
  {
   "cell_type": "code",
   "execution_count": 17,
   "id": "d48deba7",
   "metadata": {},
   "outputs": [
    {
     "data": {
      "text/plain": [
       "0    0.0\n",
       "Name: Gender_male, dtype: float64"
      ]
     },
     "execution_count": 17,
     "metadata": {},
     "output_type": "execute_result"
    }
   ],
   "source": [
    "X[\"Gender_male\"].mode()"
   ]
  },
  {
   "cell_type": "code",
   "execution_count": 20,
   "id": "3b6f19fa",
   "metadata": {},
   "outputs": [
    {
     "data": {
      "text/plain": [
       "23.053282736702542"
      ]
     },
     "execution_count": 20,
     "metadata": {},
     "output_type": "execute_result"
    }
   ],
   "source": [
    "X[\"MathScore\"].std() / X.MathScore.mean() * 100"
   ]
  },
  {
   "cell_type": "code",
   "execution_count": 21,
   "id": "295aef40",
   "metadata": {
    "scrolled": true
   },
   "outputs": [
    {
     "data": {
      "text/plain": [
       "21.271325834740303"
      ]
     },
     "execution_count": 21,
     "metadata": {},
     "output_type": "execute_result"
    }
   ],
   "source": [
    "X[\"ReadingScore\"].std() / X.ReadingScore.mean() * 100"
   ]
  },
  {
   "cell_type": "code",
   "execution_count": 22,
   "id": "3f8d2371",
   "metadata": {},
   "outputs": [
    {
     "data": {
      "text/plain": [
       "22.574844991058495"
      ]
     },
     "execution_count": 22,
     "metadata": {},
     "output_type": "execute_result"
    }
   ],
   "source": [
    "X[\"WritingScore\"].std() / X.WritingScore.mean() * 100"
   ]
  },
  {
   "cell_type": "markdown",
   "id": "70855546",
   "metadata": {},
   "source": [
    "3. a) Use a statistical test to test the hypothesis:<br>\n",
    "H0: the mean mathematical scores of females and males are equal.\n",
    "\n"
   ]
  },
  {
   "cell_type": "code",
   "execution_count": 34,
   "id": "ef56f09c",
   "metadata": {},
   "outputs": [
    {
     "name": "stdout",
     "output_type": "stream",
     "text": [
      "T-Statistic: -27.709781671935815\n",
      "p: 7.809675559975291e-167\n"
     ]
    }
   ],
   "source": [
    "from scipy.stats import ttest_ind\n",
    "math_scores_female = X[X['Gender_female'] == 1]['MathScore']\n",
    "math_scores_male = X[X['Gender_male'] == 1]['MathScore']\n",
    "t_stat, p_value = ttest_ind(math_scores_female, math_scores_male, equal_var=False)\n",
    "alpha = 0.05\n",
    "\n",
    "print(f\"T-Statistic: {t_stat}\")\n",
    "print(f\"p: {p_value}\")\n",
    "\n",
    "\n",
    "#p is higher than alpha, reject H0"
   ]
  },
  {
   "cell_type": "markdown",
   "id": "06ebfd52",
   "metadata": {},
   "source": [
    "4. a) Use a statistical test to test the hypothesis:<br>\n",
    "   H0 Gender did not affect the writing scores.<br>\n",
    "   H1 Gender affected the writing score.<br>"
   ]
  },
  {
   "cell_type": "code",
   "execution_count": 38,
   "id": "e48b849b",
   "metadata": {},
   "outputs": [
    {
     "name": "stdout",
     "output_type": "stream",
     "text": [
      "T-Statistic: 52.008547291894\n",
      "p: 0.0\n"
     ]
    }
   ],
   "source": [
    "from scipy.stats import ttest_ind\n",
    "writing_scores_female = X[X['Gender_female'] == 1]['WritingScore']\n",
    "writing_scores_male = X[X['Gender_male'] == 1]['WritingScore']\n",
    "t_stat, p_value = ttest_ind(writing_scores_female, writing_scores_male, equal_var=False)\n",
    "alpha = 0.05\n",
    "\n",
    "print(f\"T-Statistic: {t_stat}\")\n",
    "print(f\"p: {p_value}\")\n",
    "\n",
    "#reject H0"
   ]
  },
  {
   "cell_type": "markdown",
   "id": "c46fde23",
   "metadata": {},
   "source": [
    "5. a) Statisticaly test the distribuitions of female and male scores across the three scores columns.<br>\n",
    "b) Plot the distributions for each of the separate scores in both genders. <br>"
   ]
  },
  {
   "cell_type": "code",
   "execution_count": 45,
   "id": "7a30aad6",
   "metadata": {},
   "outputs": [
    {
     "name": "stdout",
     "output_type": "stream",
     "text": [
      "Kolmogorov-Smirnov test: 0.23284192974349305\n",
      "p: 0.0\n"
     ]
    }
   ],
   "source": [
    "from scipy.stats import ks_2samp\n",
    "\n",
    "scores_columns = ['MathScore', 'ReadingScore', 'WritingScore']\n",
    "\n",
    "for score_column in scores_columns:\n",
    "    scores_female = X[X['Gender_female'] == 1][score_column]\n",
    "    scores_male = X[X['Gender_male'] == 1][score_column]\n",
    "    \n",
    "    ks_statistic, p_value = ks_2samp(scores_female, scores_male)\n",
    "print(f\"Kolmogorov-Smirnov test: {ks_statistic}\")\n",
    "print(f\"p: {p_value}\")"
   ]
  },
  {
   "cell_type": "code",
   "execution_count": 46,
   "id": "4bf5be01",
   "metadata": {},
   "outputs": [
    {
     "data": {
      "image/png": "[encoded data removed]",
      "text/plain": [
       "<Figure size 800x600 with 1 Axes>"
      ]
     },
     "metadata": {},
     "output_type": "display_data"
    }
   ],
   "source": [
    "plt.figure(figsize=(8, 6))\n",
    "sns.histplot(scores_female, kde=True, color='blue', label='Female')\n",
    "sns.histplot(scores_male, kde=True, color='orange', label='Male')\n",
    "plt.title(f'Distribution of {score_column} Scores by Gender')\n",
    "plt.legend()\n",
    "plt.xlabel(score_column)\n",
    "plt.ylabel('Frequency')\n",
    "plt.show()"
   ]
  }
 ],
 "metadata": {
  "kernelspec": {
   "display_name": "Python 3 (ipykernel)",
   "language": "python",
   "name": "python3"
  },
  "language_info": {
   "codemirror_mode": {
    "name": "ipython",
    "version": 3
   },
   "file_extension": ".py",
   "mimetype": "text/x-python",
   "name": "python",
   "nbconvert_exporter": "python",
   "pygments_lexer": "ipython3",
   "version": "3.11.5"
  }
 },
 "nbformat": 4,
 "nbformat_minor": 5
}
